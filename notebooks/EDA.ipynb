{
 "cells": [
  {
   "cell_type": "code",
   "execution_count": null,
   "id": "initial_id",
   "metadata": {
    "collapsed": true
   },
   "outputs": [],
   "source": [
    "import json\n",
    "# import ast\n",
    "\n",
    "from sklearn.metrics import roc_auc_score\n",
    "from sklearn.model_selection import train_test_split\n",
    "from catboost import CatBoostClassifier, Pool, metrics\n",
    "# from transformers import AutoTokenizer\n",
    "# import torch\n",
    "import shap\n",
    "\n",
    "from pandarallel import pandarallel\n",
    "import pandas as pd\n",
    "import numpy as np\n",
    "import seaborn as sns\n",
    "import matplotlib.pyplot as plt\n",
    "import matplotlib.ticker as ticker  # to manipulate x-tickers\n",
    "import plotly.express as px\n",
    "from Levenshtein import distance as lev_distance\n",
    "\n",
    "import os\n",
    "from tqdm import tqdm\n",
    "import random\n",
    "from collections import Counter\n",
    "import pickle\n",
    "import warnings\n",
    "\n",
    "from IPython.core.interactiveshell import InteractiveShell\n",
    "\n",
    "warnings.filterwarnings('ignore')\n",
    "sns.set(rc={'figure.figsize': (20, 10), 'figure.facecolor': 'white'})\n",
    "sns.set_palette(\"viridis\")\n",
    "pd.set_option('display.max_colwidth', -1)\n",
    "pd.set_option('display.max_rows', 500)\n",
    "pd.set_option('display.max_columns', 500)\n",
    "os.environ[\"TOKENIZERS_PARALLELISM\"] = \"true\"  # activate parallelism\n",
    "pandarallel.initialize(progress_bar=True)\n",
    "InteractiveShell.ast_node_interactivity = \"all\"  # show all outputs, not only the last"
   ]
  },
  {
   "cell_type": "code",
   "execution_count": null,
   "outputs": [],
   "source": [
    "data = pd.read_csv(\"../data/raw/train_dataset_Самолет.csv\")"
   ],
   "metadata": {
    "collapsed": false
   },
   "id": "eb8098cc8d7cb5e0"
  },
  {
   "cell_type": "code",
   "execution_count": null,
   "outputs": [],
   "source": [
    "def seed_everything(seed=42):\n",
    "    random.seed(seed)\n",
    "    os.environ['PYTHONHASHSEED'] = str(seed)\n",
    "    np.random.seed(seed)\n",
    "    # torch.manual_seed(seed)\n",
    "    # torch.cuda.manual_seed(seed)\n",
    "    # torch.backends.cudnn.deterministic = True\n",
    "seed_everything()"
   ],
   "metadata": {
    "collapsed": false
   },
   "id": "b30dcdf18d9826ae"
  },
  {
   "cell_type": "markdown",
   "source": [
    "# Feature Engineering "
   ],
   "metadata": {
    "collapsed": false
   },
   "id": "bbe43788038d72dc"
  },
  {
   "cell_type": "code",
   "execution_count": null,
   "outputs": [],
   "source": [
    "def create_features(data):\n",
    "    data['day'] = pd.to_datetime(data['report_date']).dt.day\n",
    "    data['week'] = pd.to_datetime(data['report_date']).dt.week\n",
    "    data['weekday'] = pd.to_datetime(data['report_date']).dt.weekday\n",
    "    data['month'] = pd.to_datetime(data['report_date']).dt.month\n",
    "    data['year'] = pd.to_datetime(data['report_date']).dt.year\n",
    "    return data"
   ],
   "metadata": {
    "collapsed": false
   },
   "id": "90ace6a75fcd2b2a"
  },
  {
   "cell_type": "code",
   "execution_count": null,
   "outputs": [],
   "source": [
    "data = create_features(data)"
   ],
   "metadata": {
    "collapsed": false
   },
   "id": "e187dfbf073c7003"
  },
  {
   "cell_type": "code",
   "execution_count": null,
   "outputs": [],
   "source": [
    "categorical_columns = data.select_dtypes(exclude=['float64', 'int64']).columns\n",
    "numerical_columns = data.select_dtypes(include=['float64', 'int64']).columns"
   ],
   "metadata": {
    "collapsed": false
   },
   "id": "5728ea6c274af53d"
  },
  {
   "cell_type": "code",
   "execution_count": null,
   "outputs": [],
   "source": [
    "X = data.drop(columns=['target'])\n",
    "Y = data['target']"
   ],
   "metadata": {
    "collapsed": false
   },
   "id": "76889d176a3f3738"
  },
  {
   "cell_type": "code",
   "execution_count": null,
   "outputs": [],
   "source": [
    "X = X.iloc[:, np.where(~X.dtypes.isin(['float64', 'int64']))[0]].astype('str')"
   ],
   "metadata": {
    "collapsed": false
   },
   "id": "71ab0a7abd145aa1"
  },
  {
   "cell_type": "code",
   "execution_count": null,
   "outputs": [],
   "source": [
    "X_train, X_test, y_train, y_test = train_test_split(X, Y, test_size=0.33, random_state=42, shuffle=True)\n",
    "X_test, X_valid, y_test, y_valid = train_test_split(X_test, y_test, test_size=0.33, random_state=42, shuffle=True)"
   ],
   "metadata": {
    "collapsed": false
   },
   "id": "54bf332539e3f4ff"
  },
  {
   "cell_type": "markdown",
   "source": [
    "# Model"
   ],
   "metadata": {
    "collapsed": false
   },
   "id": "7217e7fffbc087f0"
  },
  {
   "cell_type": "code",
   "execution_count": null,
   "outputs": [],
   "source": [
    "def catboost_model_classifier(x_train, x_test, y_train, y_test):\n",
    "\n",
    "    # categorical_features_indices = np.where(x_train.dtypes != np.float)[0]\n",
    "    categorical_features_indices = np.where(~X_train.dtypes.isin(['float64', 'int64']))[0]  # X_train.select_dtypes('category').columns.to_list()\n",
    "\n",
    "    cb_model = CatBoostClassifier(\n",
    "        # custom_loss=metrics.Accuracy(),\n",
    "        loss_function='Logloss',\n",
    "        random_seed=42,\n",
    "        logging_level='Silent',\n",
    "        # custom_metric=['MAE', 'MAPE'],\n",
    "        max_depth=8,\n",
    "        iterations=200,\n",
    "        # scale_pos_weight=26,\n",
    "        auto_class_weights='Balanced',\n",
    "        # eval_metric=[metrics.Precision(), metrics.Recall(), metrics.F1(), metrics.TotalF1(), metrics.Accuracy()]\n",
    "    )\n",
    "\n",
    "    cb_model.fit(\n",
    "        x_train, y_train,\n",
    "        eval_set=(x_test, y_test),\n",
    "        cat_features=categorical_features_indices,\n",
    "        plot=True\n",
    "    )\n",
    "\n",
    "    return cb_model\n"
   ],
   "metadata": {
    "collapsed": false
   },
   "id": "4143a6d5fb3f76d"
  },
  {
   "cell_type": "code",
   "execution_count": null,
   "outputs": [],
   "source": [
    "model = catboost_model_classifier(X_train, X_test, y_train, y_test)"
   ],
   "metadata": {
    "collapsed": false
   },
   "id": "a180d39350277a5"
  },
  {
   "cell_type": "code",
   "execution_count": null,
   "outputs": [],
   "source": [
    "y_pred = model.predict(X_valid)"
   ],
   "metadata": {
    "collapsed": false
   },
   "id": "67f243da6d7b4b01"
  },
  {
   "cell_type": "code",
   "execution_count": null,
   "outputs": [],
   "source": [
    "roc_auc_score(y_valid, y_pred)"
   ],
   "metadata": {
    "collapsed": false
   },
   "id": "6e08804e37e6490b"
  },
  {
   "cell_type": "markdown",
   "source": [
    "# Feature Selection"
   ],
   "metadata": {
    "collapsed": false
   },
   "id": "5bc2b64e2a0bffde"
  },
  {
   "cell_type": "code",
   "execution_count": null,
   "outputs": [],
   "source": [
    "from sklearn.inspection import permutation_importance"
   ],
   "metadata": {
    "collapsed": false
   },
   "id": "db615b97290b5da"
  },
  {
   "cell_type": "code",
   "execution_count": null,
   "outputs": [],
   "source": [
    "result = permutation_importance(model, X_test, y_test, n_repeats=10, random_state=42)"
   ],
   "metadata": {
    "collapsed": false
   },
   "id": "7d54c075e9de8fd3"
  },
  {
   "cell_type": "code",
   "execution_count": 59,
   "outputs": [],
   "source": [
    "perm = (\n",
    "    pd.DataFrame(columns=['AVG_Importance', 'STD_Importance'], index=[i for i in X_train.columns])\n",
    "    .assign(AVG_Importance=result.importances_mean)\n",
    "    .assign(STD_Importance=np.std(result.importances, axis=1))\n",
    "    .sort_values(by='AVG_Importance', ascending=False)\n",
    ")"
   ],
   "metadata": {
    "collapsed": false,
    "ExecuteTime": {
     "end_time": "2023-09-08T18:05:53.046435Z",
     "start_time": "2023-09-08T18:05:53.037255Z"
    }
   },
   "id": "5fb8a292ac067144"
  },
  {
   "cell_type": "code",
   "execution_count": 60,
   "outputs": [
    {
     "data": {
      "text/plain": "<Axes: ylabel='AVG_Importance'>"
     },
     "execution_count": 60,
     "metadata": {},
     "output_type": "execute_result"
    },
    {
     "data": {
      "text/plain": "([], [])"
     },
     "execution_count": 60,
     "metadata": {},
     "output_type": "execute_result"
    },
    {
     "data": {
      "text/plain": "<Figure size 2000x1000 with 1 Axes>",
      "image/png": "[encoded data removed]"
     },
     "metadata": {},
     "output_type": "display_data"
    }
   ],
   "source": [
    "sns.barplot(x=perm.index, y=perm.AVG_Importance)\n",
    "plt.xticks([])\n",
    "plt.show()"
   ],
   "metadata": {
    "collapsed": false,
    "ExecuteTime": {
     "end_time": "2023-09-08T18:05:55.262737Z",
     "start_time": "2023-09-08T18:05:54.876932Z"
    }
   },
   "id": "e021bcab54c4d868"
  },
  {
   "cell_type": "markdown",
   "source": [
    "# Hyperparameters Tuning"
   ],
   "metadata": {
    "collapsed": false
   },
   "id": "3cc3d6e4be596ccc"
  },
  {
   "cell_type": "code",
   "execution_count": null,
   "outputs": [],
   "source": [],
   "metadata": {
    "collapsed": false
   },
   "id": "4f474c83206c064f"
  },
  {
   "cell_type": "markdown",
   "source": [
    "# Validation"
   ],
   "metadata": {
    "collapsed": false
   },
   "id": "edbfe9491dd4fc47"
  },
  {
   "cell_type": "code",
   "execution_count": null,
   "outputs": [],
   "source": [],
   "metadata": {
    "collapsed": false
   },
   "id": "8de6240af75fcc58"
  }
 ],
 "metadata": {
  "kernelspec": {
   "display_name": "Python 3",
   "language": "python",
   "name": "python3"
  },
  "language_info": {
   "codemirror_mode": {
    "name": "ipython",
    "version": 2
   },
   "file_extension": ".py",
   "mimetype": "text/x-python",
   "name": "python",
   "nbconvert_exporter": "python",
   "pygments_lexer": "ipython2",
   "version": "2.7.6"
  }
 },
 "nbformat": 4,
 "nbformat_minor": 5
}
