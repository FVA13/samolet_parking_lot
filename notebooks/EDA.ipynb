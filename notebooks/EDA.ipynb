{
 "cells": [
  {
   "cell_type": "code",
   "execution_count": null,
   "id": "initial_id",
   "metadata": {
    "collapsed": true
   },
   "outputs": [],
   "source": [
    "import json\n",
    "# import ast\n",
    "\n",
    "from sklearn.metrics import roc_auc_score, roc_curve, auc\n",
    "from sklearn.model_selection import train_test_split\n",
    "from sklearn.inspection import permutation_importance\n",
    "from catboost import CatBoostClassifier, Pool, metrics\n",
    "from hyperopt import fmin, hp, tpe, Trials, space_eval, STATUS_OK\n",
    "# from transformers import AutoTokenizer\n",
    "# import torch\n",
    "import shap\n",
    "\n",
    "from pandarallel import pandarallel\n",
    "import pandas as pd\n",
    "import numpy as np\n",
    "import seaborn as sns\n",
    "from scipy import stats\n",
    "import matplotlib.pyplot as plt\n",
    "import matplotlib.ticker as ticker  # to manipulate x-tickers\n",
    "import plotly.express as px\n",
    "from Levenshtein import distance as lev_distance\n",
    "\n",
    "import os\n",
    "from tqdm import tqdm\n",
    "import random\n",
    "from collections import Counter\n",
    "import pickle\n",
    "import warnings\n",
    "\n",
    "from IPython.core.interactiveshell import InteractiveShell\n",
    "\n",
    "warnings.filterwarnings('ignore')\n",
    "sns.set(rc={'figure.figsize': (20, 10), 'figure.facecolor': 'white'})\n",
    "sns.set_palette(\"viridis\")\n",
    "pd.set_option('display.max_colwidth', -1)\n",
    "pd.set_option('display.max_rows', 500)\n",
    "pd.set_option('display.max_columns', 500)\n",
    "os.environ[\"TOKENIZERS_PARALLELISM\"] = \"true\"  # activate parallelism\n",
    "pandarallel.initialize(progress_bar=True)\n",
    "InteractiveShell.ast_node_interactivity = \"all\"  # show all outputs, not only the last"
   ]
  },
  {
   "cell_type": "code",
   "execution_count": null,
   "outputs": [],
   "source": [
    "data = pd.read_csv(\"../data/raw/train_dataset_Самолет.csv\")"
   ],
   "metadata": {
    "collapsed": false
   },
   "id": "eb8098cc8d7cb5e0"
  },
  {
   "cell_type": "code",
   "execution_count": null,
   "outputs": [],
   "source": [
    "def seed_everything(seed=42):\n",
    "    random.seed(seed)\n",
    "    os.environ['PYTHONHASHSEED'] = str(seed)\n",
    "    np.random.seed(seed)\n",
    "    # torch.manual_seed(seed)\n",
    "    # torch.cuda.manual_seed(seed)\n",
    "    # torch.backends.cudnn.deterministic = True\n",
    "\n",
    "\n",
    "seed_everything()"
   ],
   "metadata": {
    "collapsed": false
   },
   "id": "b30dcdf18d9826ae"
  },
  {
   "cell_type": "code",
   "execution_count": null,
   "outputs": [],
   "source": [
    "def get_column_indices(df: pd.DataFrame, column_names: list) -> list:\n",
    "    return [df.columns.get_loc(c) for c in column_names if c in df.columns]"
   ],
   "metadata": {
    "collapsed": false
   },
   "id": "1c79f26477c28a1f"
  },
  {
   "cell_type": "code",
   "execution_count": null,
   "outputs": [],
   "source": [
    "def plot_roc_curve(model, X_test, y_test):\n",
    "    # Predict probabilities for the test data.\n",
    "    y_probs = model.predict_proba(X_test)\n",
    "\n",
    "    # Keep only the positive class\n",
    "    y_probs = y_probs[:, 1]\n",
    "\n",
    "    # Compute the ROC curve\n",
    "    fpr, tpr, thresholds = roc_curve(y_test, y_probs)\n",
    "\n",
    "    # Compute the AUC (Area Under the Curve)\n",
    "    roc_auc = auc(fpr, tpr)\n",
    "\n",
    "    # Plot the ROC curve\n",
    "    plt.figure()\n",
    "    plt.plot(fpr, tpr, color='darkorange', lw=2, label='ROC curve (area = %0.2f)' % roc_auc)\n",
    "    plt.plot([0, 1], [0, 1], color='navy', lw=2, linestyle='--')\n",
    "    plt.xlim([0.0, 1.0])\n",
    "    plt.ylim([0.0, 1.05])\n",
    "    plt.xlabel('False Positive Rate')\n",
    "    plt.ylabel('True Positive Rate')\n",
    "    plt.title('Receiver Operating Characteristic')\n",
    "    plt.legend(loc=\"lower right\")\n",
    "    plt.show()"
   ],
   "metadata": {
    "collapsed": false
   },
   "id": "e6cbf2132244faed"
  },
  {
   "cell_type": "markdown",
   "source": [
    "# Feature Engineering "
   ],
   "metadata": {
    "collapsed": false
   },
   "id": "bbe43788038d72dc"
  },
  {
   "cell_type": "code",
   "execution_count": null,
   "outputs": [],
   "source": [
    "def create_features(data):\n",
    "    data['day'] = pd.to_datetime(data['report_date']).dt.day\n",
    "    data['week'] = pd.to_datetime(data['report_date']).dt.week\n",
    "    data['weekday'] = pd.to_datetime(data['report_date']).dt.weekday\n",
    "    data['month'] = pd.to_datetime(data['report_date']).dt.month\n",
    "    data['year'] = pd.to_datetime(data['report_date']).dt.year\n",
    "    return data"
   ],
   "metadata": {
    "collapsed": false
   },
   "id": "90ace6a75fcd2b2a"
  },
  {
   "cell_type": "code",
   "execution_count": null,
   "outputs": [],
   "source": [
    "data = create_features(data)"
   ],
   "metadata": {
    "collapsed": false
   },
   "id": "e187dfbf073c7003"
  },
  {
   "cell_type": "code",
   "execution_count": null,
   "outputs": [],
   "source": [
    "# data.head()"
   ],
   "metadata": {
    "collapsed": false
   },
   "id": "2e7be74f5471d421"
  },
  {
   "cell_type": "code",
   "execution_count": null,
   "outputs": [],
   "source": [
    "set(data.dtypes)"
   ],
   "metadata": {
    "collapsed": false
   },
   "id": "a9335183064e1bd2"
  },
  {
   "cell_type": "code",
   "execution_count": null,
   "outputs": [],
   "source": [
    "categorical_columns = data.select_dtypes(exclude=['float64', 'int64']).columns\n",
    "numerical_columns = data.select_dtypes(include=['float64', 'int64']).columns"
   ],
   "metadata": {
    "collapsed": false
   },
   "id": "5728ea6c274af53d"
  },
  {
   "cell_type": "code",
   "execution_count": null,
   "outputs": [],
   "source": [
    "X = data.drop(columns=['target'])\n",
    "Y = data['target']"
   ],
   "metadata": {
    "collapsed": false
   },
   "id": "76889d176a3f3738"
  },
  {
   "cell_type": "code",
   "execution_count": null,
   "outputs": [],
   "source": [
    "np.where(~X.dtypes.isin(['float64', 'int64']))[0]"
   ],
   "metadata": {
    "collapsed": false
   },
   "id": "f7a0a9e634371ad9"
  },
  {
   "cell_type": "code",
   "execution_count": null,
   "outputs": [],
   "source": [
    "# X.iloc[:, np.where(~X.dtypes.isin(['float64', 'int64']))[0]] = X.iloc[:, np.where(~X.dtypes.isin(['float64', 'int64']))[\n",
    "#                                                                              0]].astype('str')\n",
    "X[categorical_columns] = X[categorical_columns].astype(str)"
   ],
   "metadata": {
    "collapsed": false
   },
   "id": "71ab0a7abd145aa1"
  },
  {
   "cell_type": "code",
   "execution_count": null,
   "outputs": [],
   "source": [
    "X_train, X_test, y_train, y_test = train_test_split(X, Y, test_size=0.33, random_state=42, shuffle=True)\n",
    "X_test, X_valid, y_test, y_valid = train_test_split(X_test, y_test, test_size=0.33, random_state=42, shuffle=True)"
   ],
   "metadata": {
    "collapsed": false
   },
   "id": "54bf332539e3f4ff"
  },
  {
   "cell_type": "markdown",
   "source": [
    "# Model"
   ],
   "metadata": {
    "collapsed": false
   },
   "id": "7217e7fffbc087f0"
  },
  {
   "cell_type": "code",
   "execution_count": null,
   "outputs": [],
   "source": [
    "def catboost_model_classifier(x_train, x_test, y_train, y_test):\n",
    "    # categorical_features_indices = np.where(~X_train.dtypes.isin(['float64', 'int64']))[0]\n",
    "    categorical_columns = data.select_dtypes(exclude=['float64', 'int64']).columns\n",
    "    categorical_features_indices = get_column_indices(x_train, categorical_columns)\n",
    "\n",
    "    cb_model = CatBoostClassifier(\n",
    "        loss_function='Logloss',\n",
    "        random_seed=42,\n",
    "        logging_level='Silent',\n",
    "        # custom_metric=['MAE', 'MAPE'],\n",
    "        max_depth=8,\n",
    "        iterations=200,\n",
    "        # scale_pos_weight=26,\n",
    "        auto_class_weights='Balanced',\n",
    "        early_stopping_rounds=20,\n",
    "        # eval_metric=[metrics.Precision(), metrics.Recall(), metrics.F1(), metrics.TotalF1(), metrics.Accuracy()]\n",
    "    )\n",
    "\n",
    "    cb_model.fit(\n",
    "        x_train, y_train,\n",
    "        eval_set=(x_test, y_test),\n",
    "        cat_features=categorical_features_indices,\n",
    "        plot=True\n",
    "    )\n",
    "\n",
    "    return cb_model\n"
   ],
   "metadata": {
    "collapsed": false
   },
   "id": "4143a6d5fb3f76d"
  },
  {
   "cell_type": "code",
   "execution_count": null,
   "outputs": [],
   "source": [
    "model = catboost_model_classifier(X_train, X_test, y_train, y_test)"
   ],
   "metadata": {
    "collapsed": false
   },
   "id": "a180d39350277a5"
  },
  {
   "cell_type": "code",
   "execution_count": null,
   "outputs": [],
   "source": [
    "y_pred = model.predict(X_valid)"
   ],
   "metadata": {
    "collapsed": false
   },
   "id": "67f243da6d7b4b01"
  },
  {
   "cell_type": "code",
   "execution_count": null,
   "outputs": [],
   "source": [
    "roc_auc_score(y_valid, y_pred)"
   ],
   "metadata": {
    "collapsed": false
   },
   "id": "6e08804e37e6490b"
  },
  {
   "cell_type": "code",
   "execution_count": null,
   "outputs": [],
   "source": [
    "feat_importances = model.get_feature_importance(prettified=True)\n",
    "\n",
    "plt.figure(figsize=(12, 10))\n",
    "sns.barplot(x=\"Importance\", y=\"Feature Name\", data=feat_importances.loc[:30, :])\n",
    "plt.title('CatBoost features importance:')"
   ],
   "metadata": {
    "collapsed": false
   },
   "id": "f49e42e3e2e3aa1b"
  },
  {
   "cell_type": "code",
   "execution_count": null,
   "outputs": [],
   "source": [
    "plot_roc_curve(model, X_valid, y_valid)"
   ],
   "metadata": {
    "collapsed": false
   },
   "id": "45bf163e37c794d5"
  },
  {
   "cell_type": "markdown",
   "source": [
    "# Feature Selection"
   ],
   "metadata": {
    "collapsed": false
   },
   "id": "5bc2b64e2a0bffde"
  },
  {
   "cell_type": "code",
   "execution_count": null,
   "outputs": [],
   "source": [
    "perm_raw = permutation_importance(model, X_test, y_test, n_repeats=10, random_state=42, n_jobs=10)"
   ],
   "metadata": {
    "collapsed": false
   },
   "id": "7d54c075e9de8fd3"
  },
  {
   "cell_type": "code",
   "execution_count": null,
   "outputs": [],
   "source": [
    "perm = (\n",
    "    pd.DataFrame(columns=['AVG_Importance', 'STD_Importance'], index=[i for i in X_train.columns])\n",
    "    .assign(AVG_Importance=perm_raw.importances_mean)\n",
    "    .assign(STD_Importance=np.std(perm_raw.importances, axis=1))\n",
    "    .sort_values(by='AVG_Importance', ascending=False)\n",
    ")"
   ],
   "metadata": {
    "collapsed": false
   },
   "id": "5fb8a292ac067144"
  },
  {
   "cell_type": "code",
   "execution_count": null,
   "outputs": [],
   "source": [
    "sns.barplot(x=perm.index, y=perm.AVG_Importance)\n",
    "plt.xticks([])\n",
    "plt.show()"
   ],
   "metadata": {
    "collapsed": false
   },
   "id": "e021bcab54c4d868"
  },
  {
   "cell_type": "code",
   "execution_count": null,
   "outputs": [],
   "source": [
    "perm"
   ],
   "metadata": {
    "collapsed": false
   },
   "id": "c10ee0479fd6cd1a"
  },
  {
   "cell_type": "code",
   "execution_count": null,
   "outputs": [],
   "source": [
    "perm.query(\"AVG_Importance > 0\")[\"AVG_Importance\"]"
   ],
   "metadata": {
    "collapsed": false
   },
   "id": "69f50c2787f8e0cf"
  },
  {
   "cell_type": "markdown",
   "source": [
    "Let's leave only useful features (22 out of 358 - 6.1%)"
   ],
   "metadata": {
    "collapsed": false
   },
   "id": "ad741ff16abed7d9"
  },
  {
   "cell_type": "code",
   "execution_count": null,
   "outputs": [],
   "source": [
    "perm.query(\"AVG_Importance > 0\")[\"AVG_Importance\"].index.to_list()"
   ],
   "metadata": {
    "collapsed": false
   },
   "id": "f26657f5f18e1ae2"
  },
  {
   "cell_type": "code",
   "execution_count": null,
   "outputs": [],
   "source": [
    "useful_column_indices = get_column_indices(X_train, perm.query(\"AVG_Importance > 0\")[\"AVG_Importance\"].index.to_list())"
   ],
   "metadata": {
    "collapsed": false
   },
   "id": "6a69de1c4c479a57"
  },
  {
   "cell_type": "code",
   "execution_count": null,
   "outputs": [],
   "source": [
    "model_without_noise_feat = catboost_model_classifier(X_train.iloc[:, useful_column_indices],\n",
    "                                                     X_test.iloc[:, useful_column_indices], y_train, y_test)"
   ],
   "metadata": {
    "collapsed": false
   },
   "id": "e3a2c9dea5a0e7e5"
  },
  {
   "cell_type": "code",
   "execution_count": null,
   "outputs": [],
   "source": [
    "y_pred = model_without_noise_feat.predict(X_valid.iloc[:, useful_column_indices])\n",
    "roc_auc_score(y_valid, y_pred)"
   ],
   "metadata": {
    "collapsed": false
   },
   "id": "846dbbbb372b426f"
  },
  {
   "cell_type": "code",
   "execution_count": null,
   "outputs": [],
   "source": [
    "plot_roc_curve(model_without_noise_feat, X_valid.iloc[:, useful_column_indices], y_valid)"
   ],
   "metadata": {
    "collapsed": false
   },
   "id": "8c2248afd4601d26"
  },
  {
   "cell_type": "markdown",
   "source": [
    "# Hyperparameters Tuning"
   ],
   "metadata": {
    "collapsed": false
   },
   "id": "3cc3d6e4be596ccc"
  },
  {
   "cell_type": "code",
   "execution_count": null,
   "outputs": [],
   "source": [
    "def objective(search_space):  #x_train, x_test, y_train, y_test, \n",
    "    categorical_columns = X_train.select_dtypes(exclude=['float64', 'int64']).columns\n",
    "    categorical_features_indices = get_column_indices(X_train, categorical_columns)\n",
    "\n",
    "    cb_model = CatBoostClassifier(\n",
    "        **search_space,\n",
    "        loss_function='Logloss',\n",
    "        auto_class_weights='Balanced',\n",
    "        early_stopping_rounds=20,\n",
    "        random_seed=42,\n",
    "    )\n",
    "\n",
    "    cb_model.fit(\n",
    "        X_train, y_train,\n",
    "        eval_set=(X_test, y_test),\n",
    "        cat_features=categorical_features_indices,\n",
    "        plot=True,\n",
    "        verbose=False\n",
    "    )\n",
    "    return {'loss': cb_model.get_best_score()['validation']['Logloss'], 'status': STATUS_OK}"
   ],
   "metadata": {
    "collapsed": false
   },
   "id": "43a401524a0c01a2"
  },
  {
   "cell_type": "code",
   "execution_count": null,
   "outputs": [],
   "source": [
    "search_space = {\n",
    "    'learning_rate': hp.uniform('learning_rate', 0.1, 0.5),\n",
    "    'iterations': hp.randint('iterations', 100, 1000),\n",
    "    'l2_leaf_reg': hp.randint('l2_leaf_reg', 1, 10),\n",
    "    'depth': hp.randint('depth', 4, 10),\n",
    "    # 'border_count': hp.uniform ('border_count', 32, 255),\n",
    "}"
   ],
   "metadata": {
    "collapsed": false
   },
   "id": "7c9d886327182c52"
  },
  {
   "cell_type": "code",
   "execution_count": null,
   "outputs": [],
   "source": [
    "best_params = fmin(\n",
    "    fn=objective,\n",
    "    space=search_space,\n",
    "    algo=tpe.suggest,\n",
    "    max_evals=100,\n",
    "    # verbose=False,\n",
    ")"
   ],
   "metadata": {
    "collapsed": false
   },
   "id": "aa70975bfabb8e6c"
  },
  {
   "cell_type": "code",
   "execution_count": null,
   "outputs": [],
   "source": [
    "hyperparams = space_eval(search_space, best_params)"
   ],
   "metadata": {
    "collapsed": false
   },
   "id": "63b7f105cc3e6d06"
  },
  {
   "cell_type": "code",
   "execution_count": null,
   "outputs": [],
   "source": [
    "with open('hyperparams.pkl', 'wb') as fp:\n",
    "    pickle.dump(hyperparams, fp)"
   ],
   "metadata": {
    "collapsed": false
   },
   "id": "f3188e6e28f14283"
  },
  {
   "cell_type": "code",
   "execution_count": null,
   "outputs": [],
   "source": [
    "params = {\n",
    "    'learning_rate': hyperparams['learning_rate'],\n",
    "    'iterations': hyperparams['iterations'],\n",
    "    'depth': hyperparams['depth'],\n",
    "    'loss_function': 'Logloss',\n",
    "    'l2_leaf_reg': hyperparams['l2_leaf_reg'],\n",
    "    'eval_metric': 'Logloss',\n",
    "    'early_stopping_rounds': 20,\n",
    "    'random_seed': 42,\n",
    "}"
   ],
   "metadata": {
    "collapsed": false
   },
   "id": "79a048ef87a6b99"
  },
  {
   "cell_type": "code",
   "execution_count": null,
   "outputs": [],
   "source": [
    "categorical_columns = X_train.select_dtypes(exclude=['float64', 'int64']).columns\n",
    "categorical_features_indices = get_column_indices(X_train, categorical_columns)\n",
    "model = CatBoostClassifier(**params)\n",
    "model.fit(X=X_train, y=y_train, eval_set=(X_valid, y_valid), verbose=250, cat_features=categorical_features_indices)\n",
    "y_pred = model.predict(X_valid)\n",
    "roc_auc_score(y_valid, y_pred)"
   ],
   "metadata": {
    "collapsed": false
   },
   "id": "f553fb5f43034c53"
  },
  {
   "cell_type": "markdown",
   "source": [
    "# Cross-Validation"
   ],
   "metadata": {
    "collapsed": false
   },
   "id": "c2b0880c00409311"
  },
  {
   "cell_type": "code",
   "execution_count": null,
   "outputs": [],
   "source": [
    "from catboost import cv\n",
    "\n",
    "# parameters for training inside cv:\n",
    "params = {\n",
    "    'loss_function': 'Logloss',\n",
    "    'iterations': 100,\n",
    "    'custom_loss': 'AUC',\n",
    "    'learning_rate': 0.5,\n",
    "}"
   ],
   "metadata": {
    "collapsed": false
   },
   "id": "bd0a09a2b5a891da"
  },
  {
   "cell_type": "code",
   "execution_count": null,
   "outputs": [],
   "source": [
    "def print_cv_summary(cv_data):\n",
    "    cv_data.head(10)\n",
    "\n",
    "    best_value = cv_data['test-Logloss-mean'].min()\n",
    "    best_iter = cv_data['test-Logloss-mean'].values.argmin()\n",
    "\n",
    "    print('Best validation Logloss score : {:.4f}±{:.4f} on step {}'.format(\n",
    "        best_value,\n",
    "        cv_data['test-Logloss-std'][best_iter],\n",
    "        best_iter)\n",
    "    )\n"
   ],
   "metadata": {
    "collapsed": false
   },
   "id": "cb21a9ce83253d2f"
  },
  {
   "cell_type": "code",
   "execution_count": null,
   "outputs": [],
   "source": [
    "train_pool = Pool(data=X_train, label=y_train, cat_features=get_column_indices(X_train, categorical_columns))\n",
    "val_pool = Pool(data=X_valid, label=y_valid, cat_features=get_column_indices(X_valid, categorical_columns))"
   ],
   "metadata": {
    "collapsed": false
   },
   "id": "d13385debf4798ca"
  },
  {
   "cell_type": "code",
   "execution_count": null,
   "outputs": [],
   "source": [
    "cv_data = cv(\n",
    "    params=params,\n",
    "    pool=train_pool,\n",
    "    fold_count=5,\n",
    "    shuffle=True,\n",
    "    partition_random_seed=0,\n",
    "    plot=True,\n",
    "    stratified=False,\n",
    "    verbose=False\n",
    ")\n",
    "\n",
    "print_cv_summary(cv_data)"
   ],
   "metadata": {
    "collapsed": false
   },
   "id": "cbefcfc733089216"
  },
  {
   "cell_type": "code",
   "execution_count": null,
   "outputs": [],
   "source": [
    "cv_data"
   ],
   "metadata": {
    "collapsed": false
   },
   "id": "bbe58dead840a154"
  },
  {
   "cell_type": "code",
   "execution_count": null,
   "outputs": [],
   "source": [],
   "metadata": {
    "collapsed": false
   },
   "id": "4f474c83206c064f"
  },
  {
   "cell_type": "markdown",
   "source": [
    "# Validation"
   ],
   "metadata": {
    "collapsed": false
   },
   "id": "edbfe9491dd4fc47"
  },
  {
   "cell_type": "code",
   "execution_count": null,
   "outputs": [],
   "source": [],
   "metadata": {
    "collapsed": false
   },
   "id": "8de6240af75fcc58"
  }
 ],
 "metadata": {
  "kernelspec": {
   "display_name": "Python 3",
   "language": "python",
   "name": "python3"
  },
  "language_info": {
   "codemirror_mode": {
    "name": "ipython",
    "version": 2
   },
   "file_extension": ".py",
   "mimetype": "text/x-python",
   "name": "python",
   "nbconvert_exporter": "python",
   "pygments_lexer": "ipython2",
   "version": "2.7.6"
  }
 },
 "nbformat": 4,
 "nbformat_minor": 5
}
