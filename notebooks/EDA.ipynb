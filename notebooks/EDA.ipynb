{
 "cells": [
  {
   "cell_type": "code",
   "execution_count": 8,
   "id": "initial_id",
   "metadata": {
    "collapsed": true,
    "ExecuteTime": {
     "end_time": "2023-09-08T16:52:56.185623Z",
     "start_time": "2023-09-08T16:52:56.180156Z"
    }
   },
   "outputs": [
    {
     "name": "stdout",
     "output_type": "stream",
     "text": [
      "INFO: Pandarallel will run on 12 workers.\n",
      "INFO: Pandarallel will use standard multiprocessing data transfer (pipe) to transfer data between the main process and workers.\n"
     ]
    }
   ],
   "source": [
    "import json\n",
    "# import ast\n",
    "\n",
    "from sklearn.metrics import roc_auc_score\n",
    "from sklearn.model_selection import train_test_split\n",
    "from catboost import CatBoostClassifier, Pool, metrics\n",
    "# from transformers import AutoTokenizer\n",
    "# import torch\n",
    "import shap\n",
    "\n",
    "from pandarallel import pandarallel\n",
    "import pandas as pd\n",
    "import numpy as np\n",
    "import seaborn as sns\n",
    "import matplotlib.pyplot as plt\n",
    "import matplotlib.ticker as ticker  # to manipulate x-tickers\n",
    "import plotly.express as px\n",
    "from Levenshtein import distance as lev_distance\n",
    "\n",
    "import os\n",
    "from tqdm import tqdm\n",
    "from collections import Counter\n",
    "import pickle\n",
    "import warnings\n",
    "\n",
    "from IPython.core.interactiveshell import InteractiveShell\n",
    "\n",
    "warnings.filterwarnings('ignore')\n",
    "sns.set(rc={'figure.figsize': (20, 10), 'figure.facecolor': 'white'})\n",
    "sns.set_palette(\"viridis\")\n",
    "pd.set_option('display.max_colwidth', -1)\n",
    "pd.set_option('display.max_rows', 500)\n",
    "pd.set_option('display.max_columns', 500)\n",
    "os.environ[\"TOKENIZERS_PARALLELISM\"] = \"true\"  # activate parallelism\n",
    "pandarallel.initialize(progress_bar=True)\n",
    "InteractiveShell.ast_node_interactivity = \"all\"  # show all outputs, not only the last"
   ]
  },
  {
   "cell_type": "code",
   "execution_count": 2,
   "outputs": [],
   "source": [
    "data = pd.read_csv(\"../data/raw/train_dataset_Самолет.csv\")"
   ],
   "metadata": {
    "collapsed": false,
    "ExecuteTime": {
     "end_time": "2023-09-08T16:50:41.159185Z",
     "start_time": "2023-09-08T16:50:39.571999Z"
    }
   },
   "id": "eb8098cc8d7cb5e0"
  },
  {
   "cell_type": "markdown",
   "source": [
    "# Feature Engineering "
   ],
   "metadata": {
    "collapsed": false
   },
   "id": "bbe43788038d72dc"
  },
  {
   "cell_type": "code",
   "execution_count": 3,
   "outputs": [],
   "source": [
    "def create_features(data):\n",
    "    data['day'] = pd.to_datetime(data['report_date']).dt.day\n",
    "    data['week'] = pd.to_datetime(data['report_date']).dt.week\n",
    "    data['weekday'] = pd.to_datetime(data['report_date']).dt.weekday\n",
    "    data['month'] = pd.to_datetime(data['report_date']).dt.month\n",
    "    data['year'] = pd.to_datetime(data['report_date']).dt.year\n",
    "    return data"
   ],
   "metadata": {
    "collapsed": false,
    "ExecuteTime": {
     "end_time": "2023-09-08T16:50:41.159492Z",
     "start_time": "2023-09-08T16:50:41.157265Z"
    }
   },
   "id": "90ace6a75fcd2b2a"
  },
  {
   "cell_type": "code",
   "execution_count": 4,
   "outputs": [],
   "source": [
    "data = create_features(data)"
   ],
   "metadata": {
    "collapsed": false,
    "ExecuteTime": {
     "end_time": "2023-09-08T16:50:41.175380Z",
     "start_time": "2023-09-08T16:50:41.161539Z"
    }
   },
   "id": "e187dfbf073c7003"
  },
  {
   "cell_type": "code",
   "execution_count": 5,
   "outputs": [],
   "source": [
    "categorical_columns = data.select_dtypes(exclude=['float64', 'int64']).columns\n",
    "numerical_columns = data.select_dtypes(include=['float64', 'int64']).columns"
   ],
   "metadata": {
    "collapsed": false,
    "ExecuteTime": {
     "end_time": "2023-09-08T16:50:41.233511Z",
     "start_time": "2023-09-08T16:50:41.176050Z"
    }
   },
   "id": "5728ea6c274af53d"
  },
  {
   "cell_type": "code",
   "execution_count": 13,
   "outputs": [],
   "source": [
    "X = data.drop(columns=['target'])\n",
    "Y = data['target']"
   ],
   "metadata": {
    "collapsed": false,
    "ExecuteTime": {
     "end_time": "2023-09-08T16:58:10.556984Z",
     "start_time": "2023-09-08T16:58:10.489519Z"
    }
   },
   "id": "76889d176a3f3738"
  },
  {
   "cell_type": "code",
   "execution_count": 14,
   "outputs": [],
   "source": [
    "X_train, X_test, y_train, y_test = train_test_split(X, Y, test_size=0.33, random_state=42, shuffle=True)\n",
    "X_test, X_valid, y_test, y_valid = train_test_split(X_test, y_test, test_size=0.33, random_state=42, shuffle=True)"
   ],
   "metadata": {
    "collapsed": false,
    "ExecuteTime": {
     "end_time": "2023-09-08T16:58:11.142731Z",
     "start_time": "2023-09-08T16:58:11.001326Z"
    }
   },
   "id": "54bf332539e3f4ff"
  },
  {
   "cell_type": "markdown",
   "source": [
    "# Model"
   ],
   "metadata": {
    "collapsed": false
   },
   "id": "7217e7fffbc087f0"
  },
  {
   "cell_type": "code",
   "execution_count": 15,
   "outputs": [],
   "source": [
    "def catboost_model_classifier(x_train, x_test, y_train, y_test):\n",
    "\n",
    "    # categorical_features_indices = np.where(x_train.dtypes != np.float)[0]\n",
    "    categorical_features_indices = np.where(X_train.dtypes not in ['float64', 'int64'])[0]  # X_train.select_dtypes('category').columns.to_list()\n",
    "\n",
    "    cb_model = CatBoostClassifier(\n",
    "        # custom_loss=metrics.Accuracy(),\n",
    "        loss_function='Logloss',\n",
    "        random_seed=42,\n",
    "        logging_level='Silent',\n",
    "        # custom_metric=['MAE', 'MAPE'],\n",
    "        max_depth=8,\n",
    "        iterations=200,\n",
    "        # scale_pos_weight=26,\n",
    "        auto_class_weights='Balanced',\n",
    "        # eval_metric=[metrics.Precision(), metrics.Recall(), metrics.F1(), metrics.TotalF1(), metrics.Accuracy()]\n",
    "    )\n",
    "\n",
    "    cb_model.fit(\n",
    "        x_train, y_train,\n",
    "        eval_set=(x_test, y_test),\n",
    "        cat_features=categorical_features_indices,\n",
    "        plot=True\n",
    "    )\n",
    "\n",
    "    return cb_model\n",
    "\n"
   ],
   "metadata": {
    "collapsed": false,
    "ExecuteTime": {
     "end_time": "2023-09-08T16:58:12.019731Z",
     "start_time": "2023-09-08T16:58:12.016641Z"
    }
   },
   "id": "4143a6d5fb3f76d"
  },
  {
   "cell_type": "code",
   "execution_count": 16,
   "outputs": [
    {
     "ename": "ValueError",
     "evalue": "The truth value of a Series is ambiguous. Use a.empty, a.bool(), a.item(), a.any() or a.all().",
     "output_type": "error",
     "traceback": [
      "\u001B[0;31m---------------------------------------------------------------------------\u001B[0m",
      "\u001B[0;31mValueError\u001B[0m                                Traceback (most recent call last)",
      "Cell \u001B[0;32mIn[16], line 1\u001B[0m\n\u001B[0;32m----> 1\u001B[0m catboost_model_classifier(X_train, X_test, y_train, y_test)\n",
      "Cell \u001B[0;32mIn[15], line 4\u001B[0m, in \u001B[0;36mcatboost_model_classifier\u001B[0;34m(x_train, x_test, y_train, y_test)\u001B[0m\n\u001B[1;32m      1\u001B[0m \u001B[38;5;28;01mdef\u001B[39;00m \u001B[38;5;21mcatboost_model_classifier\u001B[39m(x_train, x_test, y_train, y_test):\n\u001B[1;32m      2\u001B[0m \n\u001B[1;32m      3\u001B[0m     \u001B[38;5;66;03m# categorical_features_indices = np.where(x_train.dtypes != np.float)[0]\u001B[39;00m\n\u001B[0;32m----> 4\u001B[0m     categorical_features_indices \u001B[38;5;241m=\u001B[39m np\u001B[38;5;241m.\u001B[39mwhere(X_train\u001B[38;5;241m.\u001B[39mdtypes \u001B[38;5;129;01mnot\u001B[39;00m \u001B[38;5;129;01min\u001B[39;00m [\u001B[38;5;124m'\u001B[39m\u001B[38;5;124mfloat64\u001B[39m\u001B[38;5;124m'\u001B[39m, \u001B[38;5;124m'\u001B[39m\u001B[38;5;124mint64\u001B[39m\u001B[38;5;124m'\u001B[39m])[\u001B[38;5;241m0\u001B[39m]  \u001B[38;5;66;03m# X_train.select_dtypes('category').columns.to_list()\u001B[39;00m\n\u001B[1;32m      6\u001B[0m     cb_model \u001B[38;5;241m=\u001B[39m CatBoostClassifier(\n\u001B[1;32m      7\u001B[0m         \u001B[38;5;66;03m# custom_loss=metrics.Accuracy(),\u001B[39;00m\n\u001B[1;32m      8\u001B[0m         loss_function\u001B[38;5;241m=\u001B[39m\u001B[38;5;124m'\u001B[39m\u001B[38;5;124mLogloss\u001B[39m\u001B[38;5;124m'\u001B[39m,\n\u001B[0;32m   (...)\u001B[0m\n\u001B[1;32m     16\u001B[0m         \u001B[38;5;66;03m# eval_metric=[metrics.Precision(), metrics.Recall(), metrics.F1(), metrics.TotalF1(), metrics.Accuracy()]\u001B[39;00m\n\u001B[1;32m     17\u001B[0m     )\n\u001B[1;32m     19\u001B[0m     cb_model\u001B[38;5;241m.\u001B[39mfit(\n\u001B[1;32m     20\u001B[0m         x_train, y_train,\n\u001B[1;32m     21\u001B[0m         eval_set\u001B[38;5;241m=\u001B[39m(x_test, y_test),\n\u001B[1;32m     22\u001B[0m         cat_features\u001B[38;5;241m=\u001B[39mcategorical_features_indices,\n\u001B[1;32m     23\u001B[0m         plot\u001B[38;5;241m=\u001B[39m\u001B[38;5;28;01mTrue\u001B[39;00m\n\u001B[1;32m     24\u001B[0m     )\n",
      "File \u001B[0;32m~/anaconda3/lib/python3.11/site-packages/pandas/core/generic.py:1527\u001B[0m, in \u001B[0;36mNDFrame.__nonzero__\u001B[0;34m(self)\u001B[0m\n\u001B[1;32m   1525\u001B[0m \u001B[38;5;129m@final\u001B[39m\n\u001B[1;32m   1526\u001B[0m \u001B[38;5;28;01mdef\u001B[39;00m \u001B[38;5;21m__nonzero__\u001B[39m(\u001B[38;5;28mself\u001B[39m) \u001B[38;5;241m-\u001B[39m\u001B[38;5;241m>\u001B[39m NoReturn:\n\u001B[0;32m-> 1527\u001B[0m     \u001B[38;5;28;01mraise\u001B[39;00m \u001B[38;5;167;01mValueError\u001B[39;00m(\n\u001B[1;32m   1528\u001B[0m         \u001B[38;5;124mf\u001B[39m\u001B[38;5;124m\"\u001B[39m\u001B[38;5;124mThe truth value of a \u001B[39m\u001B[38;5;132;01m{\u001B[39;00m\u001B[38;5;28mtype\u001B[39m(\u001B[38;5;28mself\u001B[39m)\u001B[38;5;241m.\u001B[39m\u001B[38;5;18m__name__\u001B[39m\u001B[38;5;132;01m}\u001B[39;00m\u001B[38;5;124m is ambiguous. \u001B[39m\u001B[38;5;124m\"\u001B[39m\n\u001B[1;32m   1529\u001B[0m         \u001B[38;5;124m\"\u001B[39m\u001B[38;5;124mUse a.empty, a.bool(), a.item(), a.any() or a.all().\u001B[39m\u001B[38;5;124m\"\u001B[39m\n\u001B[1;32m   1530\u001B[0m     )\n",
      "\u001B[0;31mValueError\u001B[0m: The truth value of a Series is ambiguous. Use a.empty, a.bool(), a.item(), a.any() or a.all()."
     ]
    }
   ],
   "source": [
    "catboost_model_classifier(X_train, X_test, y_train, y_test)"
   ],
   "metadata": {
    "collapsed": false,
    "ExecuteTime": {
     "end_time": "2023-09-08T16:58:13.436987Z",
     "start_time": "2023-09-08T16:58:13.075026Z"
    }
   },
   "id": "a180d39350277a5"
  },
  {
   "cell_type": "markdown",
   "source": [
    "# Feature Selection"
   ],
   "metadata": {
    "collapsed": false
   },
   "id": "5bc2b64e2a0bffde"
  },
  {
   "cell_type": "code",
   "execution_count": 6,
   "outputs": [],
   "source": [],
   "metadata": {
    "collapsed": false,
    "ExecuteTime": {
     "end_time": "2023-09-08T16:50:42.999221Z",
     "start_time": "2023-09-08T16:50:42.997408Z"
    }
   },
   "id": "db615b97290b5da"
  },
  {
   "cell_type": "code",
   "execution_count": 6,
   "outputs": [],
   "source": [],
   "metadata": {
    "collapsed": false,
    "ExecuteTime": {
     "end_time": "2023-09-08T16:50:43.003809Z",
     "start_time": "2023-09-08T16:50:43.000826Z"
    }
   },
   "id": "7d54c075e9de8fd3"
  },
  {
   "cell_type": "markdown",
   "source": [
    "# Hyperparameters Tuning"
   ],
   "metadata": {
    "collapsed": false
   },
   "id": "3cc3d6e4be596ccc"
  },
  {
   "cell_type": "code",
   "execution_count": 6,
   "outputs": [],
   "source": [],
   "metadata": {
    "collapsed": false,
    "ExecuteTime": {
     "end_time": "2023-09-08T16:50:43.004337Z",
     "start_time": "2023-09-08T16:50:43.002712Z"
    }
   },
   "id": "4f474c83206c064f"
  },
  {
   "cell_type": "markdown",
   "source": [
    "# Validation"
   ],
   "metadata": {
    "collapsed": false
   },
   "id": "edbfe9491dd4fc47"
  },
  {
   "cell_type": "code",
   "execution_count": 6,
   "outputs": [],
   "source": [],
   "metadata": {
    "collapsed": false,
    "ExecuteTime": {
     "end_time": "2023-09-08T16:50:43.008288Z",
     "start_time": "2023-09-08T16:50:43.004898Z"
    }
   },
   "id": "8de6240af75fcc58"
  }
 ],
 "metadata": {
  "kernelspec": {
   "display_name": "Python 3",
   "language": "python",
   "name": "python3"
  },
  "language_info": {
   "codemirror_mode": {
    "name": "ipython",
    "version": 2
   },
   "file_extension": ".py",
   "mimetype": "text/x-python",
   "name": "python",
   "nbconvert_exporter": "python",
   "pygments_lexer": "ipython2",
   "version": "2.7.6"
  }
 },
 "nbformat": 4,
 "nbformat_minor": 5
}
