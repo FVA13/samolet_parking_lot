{
 "cells": [
  {
   "cell_type": "code",
   "execution_count": 2,
   "id": "initial_id",
   "metadata": {
    "collapsed": true,
    "ExecuteTime": {
     "end_time": "2023-09-09T14:14:54.423533Z",
     "start_time": "2023-09-09T14:14:51.821898Z"
    }
   },
   "outputs": [
    {
     "name": "stdout",
     "output_type": "stream",
     "text": [
      "INFO: Pandarallel will run on 12 workers.\n",
      "INFO: Pandarallel will use standard multiprocessing data transfer (pipe) to transfer data between the main process and workers.\n"
     ]
    }
   ],
   "source": [
    "import warnings\n",
    "\n",
    "warnings.filterwarnings('ignore')\n",
    "\n",
    "from sklearn.metrics import roc_auc_score, roc_curve, auc, confusion_matrix, ConfusionMatrixDisplay\n",
    "from sklearn.model_selection import train_test_split, GroupShuffleSplit\n",
    "from sklearn.inspection import permutation_importance\n",
    "from sklearn.preprocessing import StandardScaler\n",
    "from sklearn.decomposition import PCA\n",
    "from catboost import CatBoostClassifier, Pool, metrics, EFeaturesSelectionAlgorithm\n",
    "from hyperopt import fmin, hp, tpe, Trials, space_eval, STATUS_OK\n",
    "# from transformers import AutoTokenizer\n",
    "# import torch\n",
    "import umap.umap_ as umap\n",
    "import shap\n",
    "\n",
    "from pandarallel import pandarallel\n",
    "import pandas as pd\n",
    "import numpy as np\n",
    "import seaborn as sns\n",
    "from scipy import stats\n",
    "import matplotlib.pyplot as plt\n",
    "import matplotlib.ticker as ticker  # to manipulate x-tickers\n",
    "import plotly.express as px\n",
    "from Levenshtein import distance as lev_distance\n",
    "\n",
    "import os\n",
    "from tqdm import tqdm\n",
    "import random\n",
    "import json\n",
    "from collections import Counter\n",
    "import pickle\n",
    "import warnings\n",
    "\n",
    "from IPython.core.interactiveshell import InteractiveShell\n",
    "\n",
    "from samolet_parking_lot.modules.cv import *\n",
    "from samolet_parking_lot.modules.feature_engineering import *\n",
    "from samolet_parking_lot.modules.features_selection import *\n",
    "from samolet_parking_lot.modules.hyperparam_tuning import *\n",
    "from samolet_parking_lot.modules.model import *\n",
    "from samolet_parking_lot.modules.utils import *\n",
    "\n",
    "sns.set(rc={'figure.figsize': (20, 10), 'figure.facecolor': 'white'})\n",
    "sns.set_palette(\"viridis\")\n",
    "pd.set_option('display.max_colwidth', -1)\n",
    "pd.set_option('display.max_rows', 500)\n",
    "pd.set_option('display.max_columns', 500)\n",
    "os.environ[\"TOKENIZERS_PARALLELISM\"] = \"true\"  # activate parallelism\n",
    "pandarallel.initialize(progress_bar=True)\n",
    "InteractiveShell.ast_node_interactivity = \"all\"  # show all outputs, not only the last\n",
    "seed_everything()"
   ]
  },
  {
   "cell_type": "markdown",
   "source": [
    "# Stage 1. Data Preparation"
   ],
   "metadata": {
    "collapsed": false
   },
   "id": "4510975846b5169"
  },
  {
   "cell_type": "code",
   "execution_count": 3,
   "outputs": [],
   "source": [
    "data = pd.read_csv(\"../data/raw/train_dataset_Самолет.csv\")"
   ],
   "metadata": {
    "collapsed": false,
    "ExecuteTime": {
     "end_time": "2023-09-09T14:14:56.250325Z",
     "start_time": "2023-09-09T14:14:54.399551Z"
    }
   },
   "id": "a45fa35d3f0fce63"
  },
  {
   "cell_type": "code",
   "execution_count": 4,
   "outputs": [],
   "source": [
    "data = create_date_features(data)"
   ],
   "metadata": {
    "collapsed": false,
    "ExecuteTime": {
     "end_time": "2023-09-09T14:14:56.250540Z",
     "start_time": "2023-09-09T14:14:56.227207Z"
    }
   },
   "id": "785d29351d6b5022"
  },
  {
   "cell_type": "code",
   "execution_count": 5,
   "outputs": [],
   "source": [
    "# drop columns with big share of missing values\n",
    "data = remove_null_columns(data, threshold=.999)"
   ],
   "metadata": {
    "collapsed": false,
    "ExecuteTime": {
     "end_time": "2023-09-09T14:14:56.636649Z",
     "start_time": "2023-09-09T14:14:56.240541Z"
    }
   },
   "id": "3fa8d0eb557e2cb4"
  },
  {
   "cell_type": "code",
   "execution_count": 6,
   "outputs": [],
   "source": [
    "def get_train_valid_test_split(data):\n",
    "    X = data.drop(columns=['target', 'client_id', 'report_date'])\n",
    "    Y = data['target']\n",
    "\n",
    "    categorical_columns = X.select_dtypes(exclude=['float64', 'int64']).columns\n",
    "    numerical_columns = X.select_dtypes(include=['float64', 'int64']).columns\n",
    "\n",
    "    X[numerical_columns] = X[numerical_columns].fillna(0)\n",
    "    X[categorical_columns] = X[categorical_columns].astype(str)\n",
    "\n",
    "    X_train, X_valid, y_train, y_valid = train_test_split(X, Y, test_size=0.33, random_state=42, shuffle=True, stratify=Y)\n",
    "    X_valid, X_test, y_valid, y_test = train_test_split(X_valid, y_valid, test_size=0.33, random_state=42, shuffle=True,\n",
    "                                                        stratify=y_valid)\n",
    "    \n",
    "    return X_train, X_valid, X_test, y_train, y_valid, y_test"
   ],
   "metadata": {
    "collapsed": false,
    "ExecuteTime": {
     "end_time": "2023-09-09T14:14:56.636904Z",
     "start_time": "2023-09-09T14:14:56.608718Z"
    }
   },
   "id": "134481347f134845"
  },
  {
   "cell_type": "code",
   "execution_count": 7,
   "outputs": [],
   "source": [
    "def get_train_valid_test_split_group(data):\n",
    "    splitter = GroupShuffleSplit(test_size=.30, n_splits=2, random_state=7)\n",
    "    split = splitter.split(data, groups=data['client_id'])\n",
    "    train_inds, test_inds = next(split)\n",
    "\n",
    "    split = splitter.split(data.iloc[test_inds], groups=data.iloc[test_inds]['client_id'])\n",
    "    valid_inds, test_inds = next(split)\n",
    "\n",
    "    train = data.iloc[train_inds]\n",
    "    valid = data.iloc[valid_inds]\n",
    "    test = data.iloc[test_inds]\n",
    "\n",
    "    X_train = train.drop(columns=['target', 'client_id', 'report_date'])\n",
    "    X_valid = valid.drop(columns=['target', 'client_id', 'report_date'])\n",
    "    X_test = test.drop(columns=['target', 'client_id', 'report_date'])\n",
    "\n",
    "    y_train = train['target']\n",
    "    y_valid = valid['target']\n",
    "    y_test = test['target']\n",
    "\n",
    "    categorical_columns = data.drop(columns=['target', 'client_id', 'report_date']).select_dtypes(exclude=['float64', 'int64']).columns\n",
    "    numerical_columns = data.drop(columns=['target', 'client_id', 'report_date']).select_dtypes(include=['float64', 'int64']).columns\n",
    "    X_train[numerical_columns] = X_train[numerical_columns].fillna(0)\n",
    "    X_train[categorical_columns] = X_train[categorical_columns].astype(str)\n",
    "\n",
    "    X_valid[numerical_columns] = X_valid[numerical_columns].fillna(0)\n",
    "    X_valid[categorical_columns] = X_valid[categorical_columns].astype(str)\n",
    "\n",
    "    X_test[numerical_columns] = X_test[numerical_columns].fillna(0)\n",
    "    X_test[categorical_columns] = X_test[categorical_columns].astype(str)\n",
    "    \n",
    "    return X_train, X_valid, X_test, y_train, y_valid, y_test"
   ],
   "metadata": {
    "collapsed": false,
    "ExecuteTime": {
     "end_time": "2023-09-09T14:14:56.636962Z",
     "start_time": "2023-09-09T14:14:56.617980Z"
    }
   },
   "id": "36700a9876db5e5f"
  },
  {
   "cell_type": "markdown",
   "source": [],
   "metadata": {
    "collapsed": false
   },
   "id": "375700ec993335dc"
  },
  {
   "cell_type": "code",
   "execution_count": 8,
   "outputs": [],
   "source": [
    "# X_train, X_valid, X_test, y_train, y_valid, y_test = get_train_valid_test_split(data)"
   ],
   "metadata": {
    "collapsed": false,
    "ExecuteTime": {
     "end_time": "2023-09-09T14:14:56.636996Z",
     "start_time": "2023-09-09T14:14:56.619711Z"
    }
   },
   "id": "ce6149eef14fff02"
  },
  {
   "cell_type": "code",
   "execution_count": 9,
   "outputs": [],
   "source": [
    "X_train, X_valid, X_test, y_train, y_valid, y_test = get_train_valid_test_split_group(data)"
   ],
   "metadata": {
    "collapsed": false,
    "ExecuteTime": {
     "end_time": "2023-09-09T14:15:17.321073Z",
     "start_time": "2023-09-09T14:14:56.621967Z"
    }
   },
   "id": "2a52f35b356daeaa"
  },
  {
   "cell_type": "code",
   "execution_count": 10,
   "outputs": [],
   "source": [
    "# X = data.drop(columns=['target', 'client_id', 'report_date'])\n",
    "# Y = data['target']"
   ],
   "metadata": {
    "collapsed": false,
    "ExecuteTime": {
     "end_time": "2023-09-09T14:15:17.321275Z",
     "start_time": "2023-09-09T14:15:17.290110Z"
    }
   },
   "id": "b7c240a1aa919d1a"
  },
  {
   "cell_type": "code",
   "execution_count": 11,
   "outputs": [],
   "source": [
    "# categorical_columns = X.select_dtypes(exclude=['float64', 'int64']).columns\n",
    "# numerical_columns = X.select_dtypes(include=['float64', 'int64']).columns"
   ],
   "metadata": {
    "collapsed": false,
    "ExecuteTime": {
     "end_time": "2023-09-09T14:15:17.321318Z",
     "start_time": "2023-09-09T14:15:17.298185Z"
    }
   },
   "id": "d000aa23c68dbf54"
  },
  {
   "cell_type": "code",
   "execution_count": 12,
   "outputs": [],
   "source": [
    "# X[numerical_columns] = X[numerical_columns].fillna(0)\n",
    "# X[categorical_columns] = X[categorical_columns].astype(str)"
   ],
   "metadata": {
    "collapsed": false,
    "ExecuteTime": {
     "end_time": "2023-09-09T14:15:17.321347Z",
     "start_time": "2023-09-09T14:15:17.302713Z"
    }
   },
   "id": "3093d341d496e2f4"
  },
  {
   "cell_type": "code",
   "execution_count": 13,
   "outputs": [],
   "source": [
    "# X_train, X_valid, y_train, y_valid = train_test_split(X, Y, test_size=0.33, random_state=42, shuffle=True, stratify=Y)\n",
    "# X_valid, X_test, y_valid, y_test = train_test_split(X_valid, y_valid, test_size=0.33, random_state=42, shuffle=True,\n",
    "#                                                     stratify=y_valid)"
   ],
   "metadata": {
    "collapsed": false,
    "ExecuteTime": {
     "end_time": "2023-09-09T14:15:17.321373Z",
     "start_time": "2023-09-09T14:15:17.304791Z"
    }
   },
   "id": "4063c72f76178cec"
  },
  {
   "cell_type": "markdown",
   "source": [
    "# Stage 2. Data Analysis"
   ],
   "metadata": {
    "collapsed": false
   },
   "id": "87319f92c3450ad5"
  },
  {
   "cell_type": "markdown",
   "source": [
    "### Data Inspection"
   ],
   "metadata": {
    "collapsed": false
   },
   "id": "add2cd71b6fd5856"
  },
  {
   "cell_type": "code",
   "execution_count": 14,
   "outputs": [
    {
     "data": {
      "text/plain": "<Figure size 500x500 with 1 Axes>",
      "image/png": "[encoded data removed]"
     },
     "metadata": {},
     "output_type": "display_data"
    }
   ],
   "source": [
    "# Qnt of entries per client_id\n",
    "plt_data = data[['client_id', 'target']].groupby('client_id', as_index=True)['target'].count()\n",
    "ax = sns.displot(plt_data)\n",
    "plt.show()"
   ],
   "metadata": {
    "collapsed": false,
    "ExecuteTime": {
     "end_time": "2023-09-09T14:15:17.418842Z",
     "start_time": "2023-09-09T14:15:17.307496Z"
    }
   },
   "id": "1cce6db19818f5b1"
  },
  {
   "cell_type": "code",
   "execution_count": 15,
   "outputs": [],
   "source": [
    "plt_data = (\n",
    "    data[['client_id', 'target']]\n",
    "    .groupby('client_id', as_index=True)\n",
    "    .agg(qnt=('target', 'count'),\n",
    "         sum=('target', 'sum'))\n",
    ")\n",
    "plt_data['success_share'] = plt_data['sum'] / plt_data['qnt']"
   ],
   "metadata": {
    "collapsed": false,
    "ExecuteTime": {
     "end_time": "2023-09-09T14:15:17.425967Z",
     "start_time": "2023-09-09T14:15:17.420362Z"
    }
   },
   "id": "d6c36cf2da74d834"
  },
  {
   "cell_type": "code",
   "execution_count": 16,
   "outputs": [
    {
     "data": {
      "text/plain": "<Figure size 500x500 with 1 Axes>",
      "image/png": "[encoded data removed]"
     },
     "metadata": {},
     "output_type": "display_data"
    }
   ],
   "source": [
    "# distribution of share of successful events per client\n",
    "ax = sns.displot(plt_data.success_share)\n",
    "plt.show()"
   ],
   "metadata": {
    "collapsed": false,
    "ExecuteTime": {
     "end_time": "2023-09-09T14:15:17.508132Z",
     "start_time": "2023-09-09T14:15:17.424749Z"
    }
   },
   "id": "e63e69ae15e98fca"
  },
  {
   "cell_type": "code",
   "execution_count": 17,
   "outputs": [
    {
     "data": {
      "text/plain": "<Figure size 500x500 with 1 Axes>",
      "image/png": "[encoded data removed]"
     },
     "metadata": {},
     "output_type": "display_data"
    }
   ],
   "source": [
    "# distribution of share of successful events per client (w/o 0%) (among those who purchases parking lot)\n",
    "ax = sns.displot(plt_data.query(\"success_share > 0\").success_share)\n",
    "plt.show()"
   ],
   "metadata": {
    "collapsed": false,
    "ExecuteTime": {
     "end_time": "2023-09-09T14:15:17.690209Z",
     "start_time": "2023-09-09T14:15:17.512094Z"
    }
   },
   "id": "80807492ca9d942a"
  },
  {
   "cell_type": "code",
   "execution_count": 18,
   "outputs": [
    {
     "data": {
      "text/plain": "          qnt\ntarget       \n0       14020\n1       436  ",
      "text/html": "<div>\n<style scoped>\n    .dataframe tbody tr th:only-of-type {\n        vertical-align: middle;\n    }\n\n    .dataframe tbody tr th {\n        vertical-align: top;\n    }\n\n    .dataframe thead th {\n        text-align: right;\n    }\n</style>\n<table border=\"1\" class=\"dataframe\">\n  <thead>\n    <tr style=\"text-align: right;\">\n      <th></th>\n      <th>qnt</th>\n    </tr>\n    <tr>\n      <th>target</th>\n      <th></th>\n    </tr>\n  </thead>\n  <tbody>\n    <tr>\n      <th>0</th>\n      <td>14020</td>\n    </tr>\n    <tr>\n      <th>1</th>\n      <td>436</td>\n    </tr>\n  </tbody>\n</table>\n</div>"
     },
     "execution_count": 18,
     "metadata": {},
     "output_type": "execute_result"
    }
   ],
   "source": [
    "# share of clents with 1\n",
    "(\n",
    "    data[['client_id', 'target']]\n",
    "    .groupby('target', as_index=True)\n",
    "    .agg(qnt=('client_id', 'count'))\n",
    ")"
   ],
   "metadata": {
    "collapsed": false,
    "ExecuteTime": {
     "end_time": "2023-09-09T14:15:17.697627Z",
     "start_time": "2023-09-09T14:15:17.691047Z"
    }
   },
   "id": "71be1c053986f0ac"
  },
  {
   "cell_type": "markdown",
   "source": [
    "### Plot Possible Clusters"
   ],
   "metadata": {
    "collapsed": false
   },
   "id": "47ba0dc33fc10964"
  },
  {
   "cell_type": "code",
   "execution_count": null,
   "outputs": [],
   "source": [
    "data_umap = data[data.select_dtypes(include=['float64', 'int64']).columns].fillna(0)\n",
    "data_umap = StandardScaler().fit_transform(data_umap)"
   ],
   "metadata": {
    "collapsed": false,
    "is_executing": true,
    "ExecuteTime": {
     "start_time": "2023-09-09T14:15:17.696535Z"
    }
   },
   "id": "a7c434a0311c150e"
  },
  {
   "cell_type": "code",
   "execution_count": null,
   "outputs": [],
   "source": [
    "reducer = umap.UMAP()\n",
    "embedding = reducer.fit_transform(data_umap)\n",
    "embedding.shape"
   ],
   "metadata": {
    "collapsed": false,
    "is_executing": true
   },
   "id": "dcd450cade7f104d"
  },
  {
   "cell_type": "code",
   "execution_count": null,
   "outputs": [],
   "source": [
    "plt.scatter(\n",
    "    embedding[:, 0],\n",
    "    embedding[:, 1],\n",
    "    c=data.target,\n",
    "    cmap='Spectral',\n",
    ")\n",
    "plt.gca().set_aspect('equal', 'datalim')\n",
    "plt.title('UMAP projection of the SAMOLET dataset', fontsize=24);"
   ],
   "metadata": {
    "collapsed": false,
    "is_executing": true
   },
   "id": "cd0c978324fb6f59"
  },
  {
   "cell_type": "markdown",
   "source": [
    "### Dimensionality Reduction"
   ],
   "metadata": {
    "collapsed": false
   },
   "id": "d7b58a405eb9f04e"
  },
  {
   "cell_type": "code",
   "execution_count": null,
   "outputs": [],
   "source": [
    "data_umap = X_train[X_train.select_dtypes(include=['float64', 'int64']).columns].fillna(0)\n",
    "data_umap = StandardScaler().fit_transform(data_umap)"
   ],
   "metadata": {
    "collapsed": false,
    "is_executing": true
   },
   "id": "8e98bc5657784aac"
  },
  {
   "cell_type": "code",
   "execution_count": null,
   "outputs": [],
   "source": [
    "reducer = umap.UMAP(n_components=50)\n",
    "umap_embedding = reducer.fit_transform(data_umap)"
   ],
   "metadata": {
    "collapsed": false,
    "is_executing": true
   },
   "id": "2a8adb03ac490ba6"
  },
  {
   "cell_type": "code",
   "execution_count": null,
   "outputs": [],
   "source": [
    "pca = PCA(n_components=400, svd_solver='full')\n",
    "pca_embedding = pca.fit_transform(data_umap)"
   ],
   "metadata": {
    "collapsed": false,
    "is_executing": true
   },
   "id": "154abef8f3c812ab"
  },
  {
   "cell_type": "code",
   "execution_count": null,
   "outputs": [],
   "source": [
    "plot_pca_variance(pca, save_to=\"PCA_varian_without_UMAP\")"
   ],
   "metadata": {
    "collapsed": false,
    "is_executing": true
   },
   "id": "a0615e9df38242da"
  },
  {
   "cell_type": "code",
   "execution_count": null,
   "outputs": [],
   "source": [
    "ax = sns.heatmap(pd.DataFrame(pca_embedding).corr(), annot=True, cmap='Blues')\n",
    "plt.show()"
   ],
   "metadata": {
    "collapsed": false,
    "is_executing": true
   },
   "id": "18d9f7dce692405b"
  },
  {
   "cell_type": "markdown",
   "source": [
    "# Stage 3. Model (w/o Feature Selection)"
   ],
   "metadata": {
    "collapsed": false
   },
   "id": "8d1fc06b8427eb9"
  },
  {
   "cell_type": "code",
   "execution_count": null,
   "outputs": [],
   "source": [
    "model = catboost_model_classifier(X_train, X_valid, y_train, y_valid)\n",
    "y_pred = model.predict(X_test)\n",
    "roc_auc_score(y_test, y_pred)"
   ],
   "metadata": {
    "collapsed": false,
    "is_executing": true
   },
   "id": "cb8dc000212f216f"
  },
  {
   "cell_type": "code",
   "execution_count": null,
   "outputs": [],
   "source": [
    "plot_model_info(model, X_test, y_test)  #categorical_columns"
   ],
   "metadata": {
    "collapsed": false,
    "is_executing": true
   },
   "id": "697906d3b9e07885"
  },
  {
   "cell_type": "markdown",
   "source": [
    "# Step 4. Feature Selection"
   ],
   "metadata": {
    "collapsed": false
   },
   "id": "dc1fe1b9e57b5615"
  },
  {
   "cell_type": "code",
   "execution_count": null,
   "outputs": [],
   "source": [
    "useful_column_indices_sk = get_sklearn_important_features(model, X_train, X_test, y_test, plot=True)\n",
    "# useful_column_indices_rf = get_random_feat_important_features(model, X_train, y_train, y_valid)"
   ],
   "metadata": {
    "collapsed": false,
    "is_executing": true
   },
   "id": "cb12dd2887302a06"
  },
  {
   "cell_type": "code",
   "execution_count": null,
   "outputs": [],
   "source": [
    "X_train_cleaned = X_train.iloc[:, useful_column_indices_sk]\n",
    "X_valid_cleaned = X_valid.iloc[:, useful_column_indices_sk]\n",
    "X_test_cleaned = X_test.iloc[:, useful_column_indices_sk]"
   ],
   "metadata": {
    "collapsed": false,
    "is_executing": true
   },
   "id": "e547cf1f0874b233"
  },
  {
   "cell_type": "code",
   "execution_count": null,
   "outputs": [],
   "source": [
    "def catboost_model_classifier(x_train, x_valid, y_train, y_valid):\n",
    "    # categorical_features_indices = np.where(~X_train.dtypes.isin(['float64', 'int64']))[0]\n",
    "    categorical_columns = x_train.select_dtypes(exclude=[\"float64\", \"int64\"]).columns\n",
    "    numerical_columns = x_train.select_dtypes(include=['float64', 'int64']).columns\n",
    "    categorical_features_indices = get_column_indices(x_train, categorical_columns)\n",
    "\n",
    "    x_train[numerical_columns] = x_train[numerical_columns].fillna(0).astype(int)\n",
    "    x_valid[numerical_columns] = x_valid[numerical_columns].fillna(0).astype(int)\n",
    "\n",
    "    x_train[categorical_columns] = x_train[categorical_columns].astype(str)\n",
    "    x_valid[categorical_columns] = x_valid[categorical_columns].astype(str)\n",
    "\n",
    "    cb_model = CatBoostClassifier(\n",
    "        loss_function=\"Logloss\",\n",
    "        random_seed=42,\n",
    "        logging_level=\"Silent\",\n",
    "        # custom_metric=['MAE', 'MAPE'],\n",
    "        max_depth=8,\n",
    "        iterations=200,\n",
    "        # scale_pos_weight=26,\n",
    "        auto_class_weights=\"Balanced\",\n",
    "        early_stopping_rounds=20,\n",
    "        # eval_metric=[metrics.Precision(), metrics.Recall(), metrics.F1(), metrics.TotalF1(), metrics.Accuracy()]\n",
    "    )\n",
    "\n",
    "    if len(categorical_columns) > 0:\n",
    "        cb_model.fit(\n",
    "            x_train,\n",
    "            y_train,\n",
    "            eval_set=(x_valid, y_valid),\n",
    "            cat_features=categorical_columns.to_list(),\n",
    "            plot=True,\n",
    "        )\n",
    "    else:\n",
    "        cb_model.fit(\n",
    "            x_train,\n",
    "            y_train,\n",
    "            eval_set=(x_valid, y_valid),\n",
    "            cat_features=categorical_columns.to_list(),\n",
    "            plot=True,\n",
    "        )\n",
    "\n",
    "    return cb_model"
   ],
   "metadata": {
    "collapsed": false,
    "is_executing": true
   },
   "id": "eb4be9efe4dc8afc"
  },
  {
   "cell_type": "code",
   "execution_count": null,
   "outputs": [],
   "source": [
    "model_cleansed = catboost_model_classifier(\n",
    "    X_train_cleaned,\n",
    "    X_valid_cleaned,\n",
    "    y_train, y_valid\n",
    ")"
   ],
   "metadata": {
    "collapsed": false,
    "is_executing": true
   },
   "id": "f8ccec512962e182"
  },
  {
   "cell_type": "code",
   "execution_count": null,
   "outputs": [],
   "source": [
    "plot_model_info(\n",
    "    model_cleansed,\n",
    "    X_test_cleaned,\n",
    "    y_test,\n",
    "    # X_test_cleaned.select_dtypes(exclude=[\"float64\", \"int64\"]).columns.to_list()\n",
    ")"
   ],
   "metadata": {
    "collapsed": false,
    "is_executing": true
   },
   "id": "ae8751d0bd165f9d"
  },
  {
   "cell_type": "markdown",
   "source": [
    "# Step 5. Hyperparameters Tuning"
   ],
   "metadata": {
    "collapsed": false
   },
   "id": "e2750ad9efa02c30"
  },
  {
   "cell_type": "code",
   "execution_count": null,
   "outputs": [],
   "source": [
    "search_new_params = True\n",
    "if search_new_params:\n",
    "    hyperparams = search_best_params(X_train, X_test, y_train, y_test)\n",
    "else:\n",
    "    with open('best_hyperparams_full_dataset.pkl', 'rb') as fp:\n",
    "        hyperparams = pickle.load(fp)"
   ],
   "metadata": {
    "collapsed": false,
    "is_executing": true
   },
   "id": "f7a5a3ebb943dd4d"
  },
  {
   "cell_type": "code",
   "execution_count": null,
   "outputs": [],
   "source": [
    "# with open('best_hyperparams_full_dataset.pkl', 'wb') as fp:\n",
    "#     pickle.dump(hyperparams, fp)"
   ],
   "metadata": {
    "collapsed": false,
    "is_executing": true
   },
   "id": "89fe8ac17b939cb"
  },
  {
   "cell_type": "code",
   "execution_count": null,
   "outputs": [],
   "source": [
    "params = {\n",
    "    'learning_rate': hyperparams['learning_rate'],\n",
    "    'iterations': hyperparams['iterations'],\n",
    "    'depth': hyperparams['depth'],\n",
    "    'loss_function': 'Logloss',\n",
    "    'l2_leaf_reg': hyperparams['l2_leaf_reg'],\n",
    "    'eval_metric': 'Logloss',\n",
    "    'early_stopping_rounds': 20,\n",
    "    'random_seed': 42,\n",
    "    'auto_class_weights': \"Balanced\",\n",
    "}"
   ],
   "metadata": {
    "collapsed": false,
    "is_executing": true
   },
   "id": "79b29ee2846eca9f"
  },
  {
   "cell_type": "code",
   "execution_count": null,
   "outputs": [],
   "source": [
    "categorical_columns = X_train_cleaned.select_dtypes(exclude=['float64', 'int64']).columns.to_list()\n",
    "# categorical_features_indices = get_column_indices(X_train, categorical_columns)\n",
    "model_best = CatBoostClassifier(**params)\n",
    "model_best.fit(X=X_train_cleaned, y=y_train, eval_set=(X_valid_cleaned, y_valid), verbose=250,\n",
    "               cat_features=categorical_columns)"
   ],
   "metadata": {
    "collapsed": false,
    "is_executing": true
   },
   "id": "d7902991e321ada5"
  },
  {
   "cell_type": "code",
   "execution_count": null,
   "outputs": [],
   "source": [
    "plot_model_info(\n",
    "    model_best,\n",
    "    X_test_cleaned,\n",
    "    y_test,\n",
    "    # X_test_cleaned.select_dtypes(exclude=[\"float64\", \"int64\"]).columns.to_list()\n",
    ")"
   ],
   "metadata": {
    "collapsed": false,
    "is_executing": true
   },
   "id": "d74c9540aa0c70a"
  },
  {
   "cell_type": "markdown",
   "source": [
    "# Step 6. Add Logistic Regression"
   ],
   "metadata": {
    "collapsed": false
   },
   "id": "6255bf3a0532db64"
  },
  {
   "cell_type": "code",
   "execution_count": null,
   "outputs": [],
   "source": [
    "from sklearn.linear_model import LogisticRegression, Ridge"
   ],
   "metadata": {
    "collapsed": false,
    "is_executing": true
   },
   "id": "a60fb7da48a8da6b"
  },
  {
   "cell_type": "code",
   "execution_count": null,
   "outputs": [],
   "source": [
    "def get_transformer_data_for_regression(X):\n",
    "    # \"Cardinality\" means the number of unique values in a column\n",
    "    # Select categorical columns with relatively low cardinality (convenient but arbitrary)\n",
    "    categorical_cols = [\n",
    "        cname\n",
    "        for cname in X.columns\n",
    "        if X[cname].nunique() < 10 and X[cname].dtype == \"object\"\n",
    "    ]\n",
    "\n",
    "    # Select numerical columns\n",
    "    numerical_cols = [\n",
    "        cname for cname in X.columns if X[cname].dtype in [\"int64\", \"float64\"]\n",
    "    ]\n",
    "\n",
    "    # Preprocessing for numerical data\n",
    "    numerical_transformer = Pipeline(\n",
    "        steps=[\n",
    "            (\"imputer\", SimpleImputer(strategy=\"constant\")),\n",
    "            (\"scaler\", StandardScaler()),\n",
    "            (\n",
    "                \"poly\",\n",
    "                PolynomialFeatures(degree=2, include_bias=False, interaction_only=True),\n",
    "            ),\n",
    "        ]\n",
    "    )\n",
    "\n",
    "    # Preprocessing for categorical data\n",
    "    categorical_transformer = Pipeline(\n",
    "        steps=[\n",
    "            (\"imputer\", SimpleImputer(strategy=\"most_frequent\")),\n",
    "            (\"onehot\", OneHotEncoder(handle_unknown=\"ignore\")),\n",
    "        ]\n",
    "    )\n",
    "\n",
    "    # Bundle preprocessing for numerical and categorical data\n",
    "    preprocessor = ColumnTransformer(\n",
    "        transformers=[\n",
    "            (\"num\", numerical_transformer, numerical_cols),\n",
    "            (\"cat\", categorical_transformer, categorical_cols),\n",
    "        ]\n",
    "    )\n",
    "    preprocessor.fit_transform(X)\n",
    "    return preprocessor"
   ],
   "metadata": {
    "collapsed": false,
    "is_executing": true
   },
   "id": "3325954b14fbf766"
  },
  {
   "cell_type": "code",
   "execution_count": null,
   "outputs": [],
   "source": [
    "preprocessor = get_transformer_data_for_regression(X_train_cleaned)\n",
    "# preprocessor.fit(X_train_cleaned)"
   ],
   "metadata": {
    "collapsed": false,
    "is_executing": true
   },
   "id": "fd18a162c9acacef"
  },
  {
   "cell_type": "code",
   "execution_count": null,
   "outputs": [],
   "source": [
    "X_train_linear = preprocessor.transform(X_train_cleaned)\n",
    "X_test_linear = preprocessor.transform(X_test_cleaned)"
   ],
   "metadata": {
    "collapsed": false,
    "is_executing": true
   },
   "id": "65cf78ca0a985941"
  },
  {
   "cell_type": "code",
   "execution_count": null,
   "outputs": [],
   "source": [
    "pca = PCA(n_components=100, svd_solver='full')\n",
    "pca.fit(X_train_linear)\n",
    "plot_pca_variance(pca)"
   ],
   "metadata": {
    "collapsed": false,
    "is_executing": true
   },
   "id": "daf43e4142ca60a3"
  },
  {
   "cell_type": "code",
   "execution_count": null,
   "outputs": [],
   "source": [
    "top_n = 80\n",
    "train_pca = pca.fit_transform(X_train_linear)[:, :top_n]  # we select only top N features\n",
    "test_pca = pca.transform(X_test_linear)[:, :top_n]\n",
    "logreg = LogisticRegression(random_state=42)\n",
    "logreg.fit(train_pca, y_train)"
   ],
   "metadata": {
    "collapsed": false,
    "is_executing": true
   },
   "id": "fdf3e0af74807dd6"
  },
  {
   "cell_type": "code",
   "execution_count": null,
   "outputs": [],
   "source": [
    "cm_display = ConfusionMatrixDisplay(confusion_matrix(y_test, logreg.predict(test_pca)), display_labels=[False, True])\n",
    "cm_display.plot(cmap=\"Blues\")\n",
    "plt.show()"
   ],
   "metadata": {
    "collapsed": false,
    "is_executing": true
   },
   "id": "3c2016172f2ab6ae"
  },
  {
   "cell_type": "markdown",
   "source": [
    "# Step 7. CV"
   ],
   "metadata": {
    "collapsed": false
   },
   "id": "1af5cad5acc5e00"
  },
  {
   "cell_type": "code",
   "execution_count": null,
   "outputs": [],
   "source": [],
   "metadata": {
    "collapsed": false,
    "is_executing": true
   },
   "id": "fac0359ec0a4a9cf"
  }
 ],
 "metadata": {
  "kernelspec": {
   "display_name": "Python 3",
   "language": "python",
   "name": "python3"
  },
  "language_info": {
   "codemirror_mode": {
    "name": "ipython",
    "version": 2
   },
   "file_extension": ".py",
   "mimetype": "text/x-python",
   "name": "python",
   "nbconvert_exporter": "python",
   "pygments_lexer": "ipython2",
   "version": "2.7.6"
  }
 },
 "nbformat": 4,
 "nbformat_minor": 5
}
