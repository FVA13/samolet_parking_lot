{
 "cells": [
  {
   "cell_type": "code",
   "execution_count": 4,
   "id": "initial_id",
   "metadata": {
    "collapsed": true,
    "ExecuteTime": {
     "end_time": "2023-09-09T07:37:24.784688Z",
     "start_time": "2023-09-09T07:37:24.781985Z"
    }
   },
   "outputs": [
    {
     "name": "stdout",
     "output_type": "stream",
     "text": [
      "INFO: Pandarallel will run on 12 workers.\n",
      "INFO: Pandarallel will use standard multiprocessing data transfer (pipe) to transfer data between the main process and workers.\n"
     ]
    }
   ],
   "source": [
    "import json\n",
    "# import ast\n",
    "\n",
    "from sklearn.metrics import roc_auc_score, roc_curve, auc\n",
    "from sklearn.model_selection import train_test_split\n",
    "from sklearn.inspection import permutation_importance\n",
    "from catboost import CatBoostClassifier, Pool, metrics, EFeaturesSelectionAlgorithm\n",
    "from hyperopt import fmin, hp, tpe, Trials, space_eval, STATUS_OK\n",
    "# from transformers import AutoTokenizer\n",
    "# import torch\n",
    "import shap\n",
    "\n",
    "from pandarallel import pandarallel\n",
    "import pandas as pd\n",
    "import numpy as np\n",
    "import seaborn as sns\n",
    "from scipy import stats\n",
    "import matplotlib.pyplot as plt\n",
    "import matplotlib.ticker as ticker  # to manipulate x-tickers\n",
    "import plotly.express as px\n",
    "from Levenshtein import distance as lev_distance\n",
    "\n",
    "import os\n",
    "from tqdm import tqdm\n",
    "import random\n",
    "from collections import Counter\n",
    "import pickle\n",
    "import warnings\n",
    "\n",
    "from IPython.core.interactiveshell import InteractiveShell\n",
    "\n",
    "from samolet_parking_lot.modules.cv import *\n",
    "from samolet_parking_lot.modules.feature_engineering import *\n",
    "# from samolet_parking_lot.modules.features_selection import *\n",
    "from samolet_parking_lot.modules.hyperparam_tuning import *\n",
    "from samolet_parking_lot.modules.model import *\n",
    "from samolet_parking_lot.modules.utils import *\n",
    "\n",
    "warnings.filterwarnings('ignore')\n",
    "sns.set(rc={'figure.figsize': (20, 10), 'figure.facecolor': 'white'})\n",
    "sns.set_palette(\"viridis\")\n",
    "pd.set_option('display.max_colwidth', -1)\n",
    "pd.set_option('display.max_rows', 500)\n",
    "pd.set_option('display.max_columns', 500)\n",
    "os.environ[\"TOKENIZERS_PARALLELISM\"] = \"true\"  # activate parallelism\n",
    "pandarallel.initialize(progress_bar=True)\n",
    "InteractiveShell.ast_node_interactivity = \"all\"  # show all outputs, not only the last\n",
    "seed_everything()"
   ]
  },
  {
   "cell_type": "markdown",
   "source": [
    "# 1st Stage. Get Data"
   ],
   "metadata": {
    "collapsed": false
   },
   "id": "4510975846b5169"
  },
  {
   "cell_type": "code",
   "execution_count": null,
   "outputs": [],
   "source": [
    "data = pd.read_csv(\"../data/raw/train_dataset_Самолет.csv\")"
   ],
   "metadata": {
    "collapsed": false
   },
   "id": "a45fa35d3f0fce63"
  },
  {
   "cell_type": "code",
   "execution_count": null,
   "outputs": [],
   "source": [
    "data = create_date_features(data)"
   ],
   "metadata": {
    "collapsed": false
   },
   "id": "785d29351d6b5022"
  },
  {
   "cell_type": "code",
   "execution_count": null,
   "outputs": [],
   "source": [
    "X = data.drop(columns=['target', 'client_id', 'report_date'])\n",
    "Y = data['target']"
   ],
   "metadata": {
    "collapsed": false
   },
   "id": "b7c240a1aa919d1a"
  },
  {
   "cell_type": "code",
   "execution_count": null,
   "outputs": [],
   "source": [
    "categorical_columns = X.select_dtypes(exclude=['float64', 'int64']).columns\n",
    "numerical_columns = X.select_dtypes(include=['float64', 'int64']).columns"
   ],
   "metadata": {
    "collapsed": false
   },
   "id": "d000aa23c68dbf54"
  },
  {
   "cell_type": "code",
   "execution_count": null,
   "outputs": [],
   "source": [
    "X[numerical_columns] = X[numerical_columns].fillna(0)\n",
    "X[categorical_columns] = X[categorical_columns].astype(str)"
   ],
   "metadata": {
    "collapsed": false
   },
   "id": "3093d341d496e2f4"
  },
  {
   "cell_type": "code",
   "execution_count": null,
   "outputs": [],
   "source": [
    "X_train, X_valid, y_train, y_valid = train_test_split(X, Y, test_size=0.33, random_state=42, shuffle=True)\n",
    "X_valid, X_test, y_valid, y_test = train_test_split(X_valid, y_valid, test_size=0.33, random_state=42, shuffle=True)"
   ],
   "metadata": {
    "collapsed": false
   },
   "id": "4063c72f76178cec"
  }
 ],
 "metadata": {
  "kernelspec": {
   "display_name": "Python 3",
   "language": "python",
   "name": "python3"
  },
  "language_info": {
   "codemirror_mode": {
    "name": "ipython",
    "version": 2
   },
   "file_extension": ".py",
   "mimetype": "text/x-python",
   "name": "python",
   "nbconvert_exporter": "python",
   "pygments_lexer": "ipython2",
   "version": "2.7.6"
  }
 },
 "nbformat": 4,
 "nbformat_minor": 5
}
